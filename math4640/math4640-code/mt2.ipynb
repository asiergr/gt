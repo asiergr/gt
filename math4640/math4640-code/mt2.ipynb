{
 "cells": [
  {
   "cell_type": "markdown",
   "metadata": {},
   "source": [
    "Q5"
   ]
  },
  {
   "cell_type": "code",
   "execution_count": 2,
   "metadata": {},
   "outputs": [],
   "source": [
    "from typing import Callable\n",
    "import numpy as np\n",
    "import matplotlib.pyplot as plt"
   ]
  },
  {
   "cell_type": "code",
   "execution_count": 21,
   "metadata": {},
   "outputs": [],
   "source": [
    "def newton_method(f :Callable, g : Callable, x_0 : int) -> np.array:\n",
    "    k = 1000\n",
    "    x = np.zeros((k, 1))\n",
    "    x[0] = x_0\n",
    "    for i in range(1, k):\n",
    "        x[i] = x[i - 1] - (f(x[i - 1]) / g(x[i-i]))\n",
    "    return x\n",
    "\n",
    "def modified_newton(f: Callable, g: Callable, x_0: int, k: int) -> np.array:\n",
    "    k = 1000\n",
    "    x = np.zeros((k,1))\n",
    "    x[0] = x_0\n",
    "    for i in range(1, k):\n",
    "        x[i] = x[i - 1] - (k* f(x[i - 1]) / g(x[i - 1]))\n",
    "    return x"
   ]
  },
  {
   "cell_type": "code",
   "execution_count": 29,
   "metadata": {},
   "outputs": [
    {
     "name": "stdout",
     "output_type": "stream",
     "text": [
      "[10.0]\n"
     ]
    },
    {
     "name": "stderr",
     "output_type": "stream",
     "text": [
      "/var/folders/kz/3r71r65n5wj2pd5__r_bk_3r0000gn/T/ipykernel_16553/1709431242.py:1: RuntimeWarning: overflow encountered in exp\n",
      "  f = lambda x: 1 - x*np.exp(1-x)\n",
      "/var/folders/kz/3r71r65n5wj2pd5__r_bk_3r0000gn/T/ipykernel_16553/1709431242.py:2: RuntimeWarning: overflow encountered in exp\n",
      "  g = lambda x: (x-1)*np.exp(1-x)\n",
      "/var/folders/kz/3r71r65n5wj2pd5__r_bk_3r0000gn/T/ipykernel_16553/4000289024.py:14: RuntimeWarning: invalid value encountered in true_divide\n",
      "  x[i] = x[i - 1] - (k* f(x[i - 1]) / g(x[i - 1]))\n"
     ]
    }
   ],
   "source": [
    "f = lambda x: 1 - x*np.exp(1-x)\n",
    "g = lambda x: (x-1)*np.exp(1-x)\n",
    "k = 2\n",
    "alpha = 1\n",
    "# RNG\n",
    "rand = np.random.default_rng()\n",
    "# 20 randon numbers (uniformly)\n",
    "# adjust for range [-1, 10] a good\n",
    "# neighborhood around the root\n",
    "starts = rand.random(size=1) * 11 - 1.0\n",
    "out_newt = []\n",
    "out_impr = []\n",
    "starts = [10.0]\n",
    "print(starts)\n",
    "\n",
    "for x0 in starts:\n",
    "    # We append a vector of error to the root given an inital guess\n",
    "    out_newt.append(np.abs(newton_method(f, g, x0) - alpha))\n",
    "    out_impr.append(np.abs(modified_newton(f,g,x0,k) - alpha))"
   ]
  },
  {
   "cell_type": "code",
   "execution_count": 19,
   "metadata": {},
   "outputs": [
    {
     "data": {
      "image/png": "[encoded data removed]",
      "text/plain": [
       "<Figure size 432x288 with 1 Axes>"
      ]
     },
     "metadata": {
      "needs_background": "light"
     },
     "output_type": "display_data"
    }
   ],
   "source": [
    "# Plotting for normal Newton method\n",
    "k = np.arange(1000)\n",
    "for error in out_newt:\n",
    "    plt.plot(k, error) \n",
    "\n",
    "plt.show()"
   ]
  },
  {
   "cell_type": "markdown",
   "metadata": {},
   "source": [
    "Q7"
   ]
  },
  {
   "cell_type": "code",
   "execution_count": null,
   "metadata": {},
   "outputs": [],
   "source": [
    "def comp_trap(f: Callable, a: float, b: float, h: float) -> float:\n",
    "    k = (b-a) / h\n",
    "    x = np.arange(a + h, b, h)\n",
    "    return h*(sum([f(xi) for xi in x]) + 0.5*f(a) + 0.5*f(b))\n",
    "    \n",
    "def impr_trap(f: Callable, g: Callable, a: float, b: float, h: float) -> float:\n",
    "    return comp_trap(f, a, b, h) - (1/12)*(h**2)(g(b)-g(a))"
   ]
  }
 ],
 "metadata": {
  "interpreter": {
   "hash": "dd35d0d2f47ffda01634c9676252f33987d44a0ea61035fce8b295334bc5a8d3"
  },
  "kernelspec": {
   "display_name": "Python 3.9.7 64-bit ('test': conda)",
   "language": "python",
   "name": "python3"
  },
  "language_info": {
   "codemirror_mode": {
    "name": "ipython",
    "version": 3
   },
   "file_extension": ".py",
   "mimetype": "text/x-python",
   "name": "python",
   "nbconvert_exporter": "python",
   "pygments_lexer": "ipython3",
   "version": "3.9.7"
  },
  "orig_nbformat": 4
 },
 "nbformat": 4,
 "nbformat_minor": 2
}
