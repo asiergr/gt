{
 "cells": [
  {
   "cell_type": "code",
   "execution_count": 6,
   "metadata": {},
   "outputs": [],
   "source": [
    "#imports\n",
    "import pandas as pd\n",
    "import matplotlib.pyplot as plt\n",
    "import numpy as np\n",
    "import seaborn as sns\n",
    "from scipy.stats import gamma"
   ]
  },
  {
   "cell_type": "code",
   "execution_count": 1,
   "metadata": {},
   "outputs": [],
   "source": [
    "# Fetching data\n",
    "# the url of the data.csv on github\n",
    "url_data = (r'https://raw.githubusercontent.com/mrc-ide/Brazil_COVID19_distributions/52241f817d74b96a7df0a82dff5b770b5caf7914/data/onset-to-death.csv')\n",
    "\n",
    "# importing as a dataframe\n",
    "data_csv = pd.read_csv(url_data)\n",
    "\n",
    "# extracting the data as a numpy array\n",
    "data = data_csv.loc[(data_csv[\"Start_date\"] >= \"2020-04-01\")  \n",
    "                    & (data_csv[\"Start_date\"] <= \"2020-04-30\") \n",
    "                    & (data_csv[\"State\"] == \"SP\")\n",
    "                    & (data_csv[\"onset-to-death\"] > 0) ][\"onset-to-death\"].to_numpy()"
   ]
  },
  {
   "cell_type": "markdown",
   "metadata": {},
   "source": [
    "# Step 1: MoM"
   ]
  },
  {
   "cell_type": "markdown",
   "metadata": {},
   "source": [
    "Use the method of moments estimator for the values of $\\theta$ and $\\alpha$."
   ]
  },
  {
   "cell_type": "markdown",
   "metadata": {},
   "source": [
    "For the method of moments of the Gamma distribution we have that\n",
    "$$\\mu_1 = \\alpha\\theta$$\n",
    "and\n",
    "$$\\mu_2 = \\alpha (1 + \\alpha) \\theta^2 $$\n",
    "\n",
    "Thus we have\n",
    "\n",
    "$$ \\mu_2 - \\mu_1^2 = \\alpha\\theta^2 = \\mu_1\\theta $$\n",
    "\n",
    "We note that $m_2 - m_1^2$ is the sample variance and $\\mu_1$ the sample mean."
   ]
  },
  {
   "cell_type": "code",
   "execution_count": 4,
   "metadata": {},
   "outputs": [
    {
     "data": {
      "text/plain": [
       "(8.764398286570675, 1.919070267750832)"
      ]
     },
     "execution_count": 4,
     "metadata": {},
     "output_type": "execute_result"
    }
   ],
   "source": [
    "# Find sample mean and var\n",
    "\n",
    "samp_mean = data.mean()\n",
    "samp_var = data.var()\n",
    "\n",
    "# Find alpha and theta\n",
    "theta_hat = samp_var / samp_mean\n",
    "alpha_hat = samp_mean / theta_hat\n",
    "\n",
    "theta_hat, alpha_hat\n"
   ]
  },
  {
   "cell_type": "markdown",
   "metadata": {},
   "source": [
    "# Step 2: Newton-Rhapson"
   ]
  },
  {
   "cell_type": "markdown",
   "metadata": {},
   "source": [
    "For the general Newton-Rhapson method we have that\n",
    "$$x_{i+1} = x_i + \\frac{f(x_i)}{f'(x_i)}$$\n",
    "\n",
    "We let"
   ]
  },
  {
   "cell_type": "markdown",
   "metadata": {},
   "source": [
    "# Step 3: Graphing"
   ]
  },
  {
   "cell_type": "markdown",
   "metadata": {},
   "source": [
    "Plot the density histogram of the data against the pdf ’s of gamma distributions found in Steps 1 and 2."
   ]
  },
  {
   "cell_type": "code",
   "execution_count": 12,
   "metadata": {},
   "outputs": [
    {
     "data": {
      "image/png": "[encoded data removed]",
      "text/plain": [
       "<Figure size 360x360 with 1 Axes>"
      ]
     },
     "metadata": {
      "needs_background": "light"
     },
     "output_type": "display_data"
    }
   ],
   "source": [
    "sns.displot(data=data, stat='density')\n",
    "\n",
    "x = np.linspace(0, np.max(data), data.size)\n",
    "y = gamma.pdf(x, a=alpha_hat, scale=theta_hat)\n",
    "\n",
    "plt.plot(x,y,color='red')\n",
    "plt.show()"
   ]
  },
  {
   "cell_type": "code",
   "execution_count": null,
   "metadata": {},
   "outputs": [],
   "source": []
  }
 ],
 "metadata": {
  "interpreter": {
   "hash": "dd35d0d2f47ffda01634c9676252f33987d44a0ea61035fce8b295334bc5a8d3"
  },
  "kernelspec": {
   "display_name": "Python 3.9.7 64-bit ('test': conda)",
   "language": "python",
   "name": "python3"
  },
  "language_info": {
   "codemirror_mode": {
    "name": "ipython",
    "version": 3
   },
   "file_extension": ".py",
   "mimetype": "text/x-python",
   "name": "python",
   "nbconvert_exporter": "python",
   "pygments_lexer": "ipython3",
   "version": "3.9.7"
  },
  "orig_nbformat": 4
 },
 "nbformat": 4,
 "nbformat_minor": 2
}
