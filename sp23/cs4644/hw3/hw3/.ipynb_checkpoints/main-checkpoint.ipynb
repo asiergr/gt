{
 "cells": [
  {
   "cell_type": "markdown",
   "id": "e1d0dec0",
   "metadata": {
    "id": "e1d0dec0"
   },
   "source": [
    "# CS 4464/7643 Deep Learning HW 3"
   ]
  },
  {
   "cell_type": "markdown",
   "id": "e8e0ac21",
   "metadata": {
    "id": "e8e0ac21"
   },
   "source": [
    "## Setup"
   ]
  },
  {
   "cell_type": "markdown",
   "id": "b664688d",
   "metadata": {
    "id": "b664688d"
   },
   "source": [
    "### Google Colab\n",
    "\n",
    "Edit and run the cell below to setup the environment for Google Colab (and only for Google Colab)."
   ]
  },
  {
   "cell_type": "code",
   "execution_count": null,
   "id": "3s3pquSHlfz0",
   "metadata": {
    "id": "3s3pquSHlfz0"
   },
   "outputs": [],
   "source": [
    "from google.colab import drive\n",
    "drive.mount('/content/drive')"
   ]
  },
  {
   "cell_type": "code",
   "execution_count": null,
   "id": "technological-catering",
   "metadata": {
    "id": "technological-catering"
   },
   "outputs": [],
   "source": [
    "# TODO : Change this path to the correct one for you\n",
    "# %cd /content/drive/MyDrive/hw3\n",
    "%cd /content/drive/MyDrive/GATECH/2023_Spring/DL_TA/HW3\n",
    "%pip install torch==1.8.1 torchvision==0.9.1 torchaudio==0.8.1\n",
    "%pip install captum"
   ]
  },
  {
   "cell_type": "markdown",
   "id": "1107dc59",
   "metadata": {
    "id": "1107dc59"
   },
   "source": [
    "### Local Environment\n",
    "\n",
    "Run the cell below **once** if using the suggested local environment (and only the local environment).\n",
    "\n",
    "Then, change the ipykernel in the top right of this VS Code window to `dl_hw3`."
   ]
  },
  {
   "cell_type": "code",
   "execution_count": 3,
   "id": "dc0da46f",
   "metadata": {
    "id": "dc0da46f"
   },
   "outputs": [],
   "source": [
    "# %conda env create -f ./local_environment/environment.yml"
   ]
  },
  {
   "cell_type": "markdown",
   "id": "yE-sdl_VRFWs",
   "metadata": {
    "id": "yE-sdl_VRFWs"
   },
   "source": [
    "## Network Visualization"
   ]
  },
  {
   "cell_type": "markdown",
   "id": "Usz_5psRYgIE",
   "metadata": {
    "id": "Usz_5psRYgIE"
   },
   "source": [
    "### Saliency Maps"
   ]
  },
  {
   "cell_type": "code",
   "execution_count": 2,
   "id": "esp9ZBhOkwjf",
   "metadata": {
    "id": "esp9ZBhOkwjf"
   },
   "outputs": [
    {
     "ename": "ModuleNotFoundError",
     "evalue": "No module named 'scipy'",
     "output_type": "error",
     "traceback": [
      "\u001b[0;31m---------------------------------------------------------------------------\u001b[0m",
      "\u001b[0;31mModuleNotFoundError\u001b[0m                       Traceback (most recent call last)",
      "Cell \u001b[0;32mIn[2], line 2\u001b[0m\n\u001b[1;32m      1\u001b[0m \u001b[38;5;28;01mimport\u001b[39;00m \u001b[38;5;21;01mimportlib\u001b[39;00m\n\u001b[0;32m----> 2\u001b[0m \u001b[38;5;28;01mimport\u001b[39;00m \u001b[38;5;21;01msaliency_map\u001b[39;00m \u001b[38;5;28;01mas\u001b[39;00m \u001b[38;5;21;01msm\u001b[39;00m\n\u001b[1;32m      3\u001b[0m importlib\u001b[38;5;241m.\u001b[39mreload(sm)\n\u001b[1;32m      5\u001b[0m sm\u001b[38;5;241m.\u001b[39mmanual_saliency_maps()\u001b[38;5;241m.\u001b[39mshow()\n",
      "File \u001b[0;32m~/repos/gt/sp23/cs4644/hw3/hw3/saliency_map.py:11\u001b[0m\n\u001b[1;32m      9\u001b[0m \u001b[38;5;28;01mfrom\u001b[39;00m \u001b[38;5;21;01mdata_utils\u001b[39;00m \u001b[38;5;28;01mimport\u001b[39;00m \u001b[38;5;241m*\u001b[39m\n\u001b[1;32m     10\u001b[0m \u001b[38;5;28;01mfrom\u001b[39;00m \u001b[38;5;21;01mimage_utils\u001b[39;00m \u001b[38;5;28;01mimport\u001b[39;00m \u001b[38;5;241m*\u001b[39m\n\u001b[0;32m---> 11\u001b[0m \u001b[38;5;28;01mfrom\u001b[39;00m \u001b[38;5;21;01mvisualizers\u001b[39;00m \u001b[38;5;28;01mimport\u001b[39;00m SaliencyMap\n\u001b[1;32m     13\u001b[0m plt\u001b[38;5;241m.\u001b[39mrcParams[\u001b[38;5;124m\"\u001b[39m\u001b[38;5;124mfigure.figsize\u001b[39m\u001b[38;5;124m\"\u001b[39m] \u001b[38;5;241m=\u001b[39m (\u001b[38;5;241m10.0\u001b[39m, \u001b[38;5;241m8.0\u001b[39m)  \u001b[38;5;66;03m# set default size of plots\u001b[39;00m\n\u001b[1;32m     14\u001b[0m plt\u001b[38;5;241m.\u001b[39mrcParams[\u001b[38;5;124m\"\u001b[39m\u001b[38;5;124mimage.interpolation\u001b[39m\u001b[38;5;124m\"\u001b[39m] \u001b[38;5;241m=\u001b[39m \u001b[38;5;124m\"\u001b[39m\u001b[38;5;124mnearest\u001b[39m\u001b[38;5;124m\"\u001b[39m\n",
      "File \u001b[0;32m~/repos/gt/sp23/cs4644/hw3/hw3/visualizers/__init__.py:1\u001b[0m\n\u001b[0;32m----> 1\u001b[0m \u001b[38;5;28;01mfrom\u001b[39;00m \u001b[38;5;21;01m.\u001b[39;00m\u001b[38;5;21;01mclass_visualization\u001b[39;00m \u001b[38;5;28;01mimport\u001b[39;00m ClassVisualization\n\u001b[1;32m      2\u001b[0m \u001b[38;5;28;01mfrom\u001b[39;00m \u001b[38;5;21;01m.\u001b[39;00m\u001b[38;5;21;01mfooling_image\u001b[39;00m \u001b[38;5;28;01mimport\u001b[39;00m FoolingImage\n\u001b[1;32m      3\u001b[0m \u001b[38;5;28;01mfrom\u001b[39;00m \u001b[38;5;21;01m.\u001b[39;00m\u001b[38;5;21;01mgradcam\u001b[39;00m \u001b[38;5;28;01mimport\u001b[39;00m GradCam\n",
      "File \u001b[0;32m~/repos/gt/sp23/cs4644/hw3/hw3/visualizers/class_visualization.py:5\u001b[0m\n\u001b[1;32m      3\u001b[0m \u001b[38;5;28;01mimport\u001b[39;00m \u001b[38;5;21;01mmatplotlib\u001b[39;00m\u001b[38;5;21;01m.\u001b[39;00m\u001b[38;5;21;01mpyplot\u001b[39;00m \u001b[38;5;28;01mas\u001b[39;00m \u001b[38;5;21;01mplt\u001b[39;00m\n\u001b[1;32m      4\u001b[0m \u001b[38;5;28;01mimport\u001b[39;00m \u001b[38;5;21;01mtorch\u001b[39;00m\n\u001b[0;32m----> 5\u001b[0m \u001b[38;5;28;01mfrom\u001b[39;00m \u001b[38;5;21;01mscipy\u001b[39;00m\u001b[38;5;21;01m.\u001b[39;00m\u001b[38;5;21;01mndimage\u001b[39;00m\u001b[38;5;21;01m.\u001b[39;00m\u001b[38;5;21;01mfilters\u001b[39;00m \u001b[38;5;28;01mimport\u001b[39;00m gaussian_filter1d\n\u001b[1;32m      6\u001b[0m \u001b[38;5;28;01mfrom\u001b[39;00m \u001b[38;5;21;01mtorch\u001b[39;00m\u001b[38;5;21;01m.\u001b[39;00m\u001b[38;5;21;01mautograd\u001b[39;00m \u001b[38;5;28;01mimport\u001b[39;00m Variable\n\u001b[1;32m      8\u001b[0m \u001b[38;5;28;01mfrom\u001b[39;00m \u001b[38;5;21;01mimage_utils\u001b[39;00m \u001b[38;5;28;01mimport\u001b[39;00m SQUEEZENET_MEAN, SQUEEZENET_STD, deprocess, preprocess\n",
      "\u001b[0;31mModuleNotFoundError\u001b[0m: No module named 'scipy'"
     ]
    }
   ],
   "source": [
    "import importlib\n",
    "import saliency_map as sm\n",
    "importlib.reload(sm)\n",
    "\n",
    "sm.manual_saliency_maps().show()"
   ]
  },
  {
   "cell_type": "code",
   "execution_count": null,
   "id": "bg4m68lTcH8a",
   "metadata": {
    "id": "bg4m68lTcH8a"
   },
   "outputs": [],
   "source": [
    "sm.captum_saliency_maps().show()"
   ]
  },
  {
   "cell_type": "markdown",
   "id": "YQPh1IAZYZmJ",
   "metadata": {
    "id": "YQPh1IAZYZmJ"
   },
   "source": [
    "### GradCam"
   ]
  },
  {
   "cell_type": "code",
   "execution_count": null,
   "id": "zI0iP5IdRtF4",
   "metadata": {
    "id": "zI0iP5IdRtF4"
   },
   "outputs": [],
   "source": [
    "import gradcam as gcam\n",
    "importlib.reload(gcam)\n",
    "\n",
    "gcam.guided_backprop().show()\n",
    "gcam.gradcam().show()\n",
    "gcam.guided_gradcam().show()"
   ]
  },
  {
   "cell_type": "code",
   "execution_count": null,
   "id": "98uUmw9SYUV8",
   "metadata": {
    "id": "98uUmw9SYUV8"
   },
   "outputs": [],
   "source": [
    "gcam.guided_gradcam_captum().show()"
   ]
  },
  {
   "cell_type": "markdown",
   "id": "45416a88",
   "metadata": {
    "id": "45416a88"
   },
   "source": [
    "**What does Saliency Map/GradCam tell you?**\n",
    "\n",
    "(Answer Here)"
   ]
  },
  {
   "cell_type": "code",
   "execution_count": null,
   "id": "e76IJM8wYWtW",
   "metadata": {
    "id": "e76IJM8wYWtW"
   },
   "outputs": [],
   "source": [
    "gcam.layer_vis_captum().show()"
   ]
  },
  {
   "cell_type": "markdown",
   "id": "1g5dv_YdYkUR",
   "metadata": {
    "id": "1g5dv_YdYkUR"
   },
   "source": [
    "### Fooling Images"
   ]
  },
  {
   "cell_type": "code",
   "execution_count": null,
   "id": "VZwsrX3cLDZy",
   "metadata": {
    "id": "VZwsrX3cLDZy"
   },
   "outputs": [],
   "source": [
    "# View Fooling Images\n",
    "import fooling_image as fim\n",
    "\n",
    "fim.fooling_image().show()"
   ]
  },
  {
   "cell_type": "markdown",
   "id": "0718aa89",
   "metadata": {
    "id": "0718aa89"
   },
   "source": [
    "**What does the fooling image tell you?**\n",
    "(Answer Here)"
   ]
  },
  {
   "cell_type": "markdown",
   "id": "yr8hU7YPYmf_",
   "metadata": {
    "id": "yr8hU7YPYmf_"
   },
   "source": [
    "### Class Visualizations"
   ]
  },
  {
   "cell_type": "code",
   "execution_count": null,
   "id": "VL1UbfL7LDiW",
   "metadata": {
    "id": "VL1UbfL7LDiW"
   },
   "outputs": [],
   "source": [
    "# View Class Visualizations\n",
    "import class_visualization as cv\n",
    "\n",
    "# You can use a single class during your debugging session,\n",
    "# but please show all the generated outputs in your submitted report\n",
    "\n",
    "cv.visualize_class(76).show() # Tarantula\n",
    "cv.visualize_class(78).show() # Tick\n",
    "cv.visualize_class(187).show() # Yorkshire Terrier\n",
    "cv.visualize_class(683).show() # Oboe\n",
    "cv.visualize_class(366).show() # Gorilla\n",
    "cv.visualize_class(604).show() # Hourglass"
   ]
  },
  {
   "cell_type": "markdown",
   "id": "cf7389b2",
   "metadata": {
    "id": "cf7389b2"
   },
   "source": [
    "## Style Transfer"
   ]
  },
  {
   "cell_type": "code",
   "execution_count": null,
   "id": "coral-monday",
   "metadata": {
    "id": "coral-monday"
   },
   "outputs": [],
   "source": [
    "# Test all style transfer functions\n",
    "!python -m unittest tests.all.Test\n",
    "\n",
    "# Uncomment the lines below to test individually\n",
    "#!python -m unittest tests.all.Test.test_content_loss\n",
    "#!python -m unittest tests.all.Test.test_gram_matrix\n",
    "#!python -m unittest tests.all.Test.test_style_loss\n",
    "# !python -m unittest tests.all.Test.test_tv_loss"
   ]
  },
  {
   "cell_type": "code",
   "execution_count": null,
   "id": "ExGIy_djQrJx",
   "metadata": {
    "id": "ExGIy_djQrJx"
   },
   "outputs": [],
   "source": [
    "# View Style Transfer Images\n",
    "import style_transfer as st \n",
    "\n",
    "st.composition_vii().show()\n",
    "st.scream().show()\n",
    "st.starry_night().show()"
   ]
  },
  {
   "cell_type": "markdown",
   "id": "Pz92oYDm9-B9",
   "metadata": {
    "id": "Pz92oYDm9-B9"
   },
   "source": [
    "## Submission"
   ]
  },
  {
   "cell_type": "code",
   "execution_count": null,
   "id": "jRJ_k1Q399HY",
   "metadata": {
    "id": "jRJ_k1Q399HY"
   },
   "outputs": [],
   "source": [
    "!python collect_submission.py"
   ]
  }
 ],
 "metadata": {
  "colab": {
   "provenance": []
  },
  "kernelspec": {
   "display_name": "Python 3 (ipykernel)",
   "language": "python",
   "name": "python3"
  },
  "language_info": {
   "codemirror_mode": {
    "name": "ipython",
    "version": 3
   },
   "file_extension": ".py",
   "mimetype": "text/x-python",
   "name": "python",
   "nbconvert_exporter": "python",
   "pygments_lexer": "ipython3",
   "version": "3.9.12"
  },
  "vscode": {
   "interpreter": {
    "hash": "b0fa6594d8f4cbf19f97940f81e996739fb7646882a419484c72d19e05852a7e"
   }
  }
 },
 "nbformat": 4,
 "nbformat_minor": 5
}
