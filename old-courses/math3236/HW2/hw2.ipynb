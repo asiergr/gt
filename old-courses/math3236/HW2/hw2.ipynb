{
 "cells": [
  {
   "cell_type": "code",
   "execution_count": 15,
   "metadata": {},
   "outputs": [],
   "source": [
    "#imports\n",
    "import pandas as pd\n",
    "import matplotlib.pyplot as plt\n",
    "import numpy as np\n",
    "import seaborn as sns\n",
    "from scipy.stats import gamma\n",
    "from scipy.special import digamma\n",
    "from scipy.optimize import newton"
   ]
  },
  {
   "cell_type": "code",
   "execution_count": 16,
   "metadata": {},
   "outputs": [],
   "source": [
    "# Fetching data\n",
    "# the url of the data.csv on github\n",
    "url_data = (r'https://raw.githubusercontent.com/mrc-ide/Brazil_COVID19_distributions/52241f817d74b96a7df0a82dff5b770b5caf7914/data/onset-to-death.csv')\n",
    "\n",
    "# importing as a dataframe\n",
    "data_csv = pd.read_csv(url_data)\n",
    "\n",
    "# extracting the data as a numpy array\n",
    "data = data_csv.loc[(data_csv[\"Start_date\"] >= \"2020-04-01\")  \n",
    "                    & (data_csv[\"Start_date\"] <= \"2020-04-30\") \n",
    "                    & (data_csv[\"State\"] == \"SP\")\n",
    "                    & (data_csv[\"onset-to-death\"] > 0) ][\"onset-to-death\"].to_numpy()"
   ]
  },
  {
   "cell_type": "markdown",
   "metadata": {},
   "source": [
    "# Step 1: MoM"
   ]
  },
  {
   "cell_type": "markdown",
   "metadata": {},
   "source": [
    "Use the method of moments estimator for the values of $\\theta$ and $\\alpha$."
   ]
  },
  {
   "cell_type": "markdown",
   "metadata": {},
   "source": [
    "For the method of moments of the Gamma distribution we have that\n",
    "$$\\mu_1 = \\alpha\\theta$$\n",
    "and\n",
    "$$\\mu_2 = \\alpha (1 + \\alpha) \\theta^2 $$\n",
    "\n",
    "Thus we have\n",
    "\n",
    "$$ \\mu_2 - \\mu_1^2 = \\alpha\\theta^2 = \\mu_1\\theta $$\n",
    "\n",
    "We note that $m_2 - m_1^2$ is the sample variance and $\\mu_1$ the sample mean."
   ]
  },
  {
   "cell_type": "code",
   "execution_count": 17,
   "metadata": {},
   "outputs": [
    {
     "name": "stdout",
     "output_type": "stream",
     "text": [
      "Method of Moments\n",
      "Theta: 8.764398286570675\n",
      "Alpha: 1.919070267750832\n"
     ]
    }
   ],
   "source": [
    "# Find sample mean and var\n",
    "\n",
    "samp_mean = data.mean()\n",
    "samp_var = data.var()\n",
    "\n",
    "# Find alpha and theta\n",
    "theta_hat = samp_var / samp_mean\n",
    "alpha_hat = samp_mean / theta_hat\n",
    "\n",
    "print(\"Method of Moments\")\n",
    "print(f\"Theta: {theta_hat}\")\n",
    "print(f\"Alpha: {alpha_hat}\")"
   ]
  },
  {
   "cell_type": "markdown",
   "metadata": {},
   "source": [
    "# Step 2: Newton-Rhapson"
   ]
  },
  {
   "cell_type": "markdown",
   "metadata": {},
   "source": [
    "For the general Newton-Rhapson method we have that\n",
    "$$x_{i+1} = x_i + \\frac{f(x_i)}{f'(x_i)}$$\n",
    "\n",
    "We let\n",
    "$$f(\\alpha) = \\ln(\\bar{x}_n)- \\ln(\\alpha) - \\frac{1}{n}\\sum_{i=1}^n\\ln(x_i) + \\frac{\\Gamma'(\\alpha)}{\\Gamma(\\alpha)}$$\n",
    "\n",
    "and we know\n",
    "$$\\theta = \\frac{\\bar{x}_n}{\\alpha}$$\n",
    "\n",
    "from week 3 slides."
   ]
  },
  {
   "cell_type": "code",
   "execution_count": 18,
   "metadata": {},
   "outputs": [
    {
     "name": "stdout",
     "output_type": "stream",
     "text": [
      "Newton-Rhapson Method:\n",
      "Theta 8.47986048991146\n",
      "Alpha 1.9834637829825588\n"
     ]
    }
   ],
   "source": [
    "sum_ln_xi = np.log(data).sum() / data.size\n",
    "\n",
    "def f(a):\n",
    "    return np.log(data.mean()) - np.log(a) - sum_ln_xi + digamma(a)\n",
    "\n",
    "alpha_mle = newton(f, alpha_hat)\n",
    "theta_mle = data.mean() / alpha_mle\n",
    "print(\"Newton-Rhapson Method:\")\n",
    "print(f\"Theta {theta_mle}\")\n",
    "print(f\"Alpha {alpha_mle}\")"
   ]
  },
  {
   "cell_type": "markdown",
   "metadata": {},
   "source": [
    "# Step 3: Graphing"
   ]
  },
  {
   "cell_type": "markdown",
   "metadata": {},
   "source": [
    "Plot the density histogram of the data against the pdf ’s of gamma distributions found in Steps 1 and 2."
   ]
  },
  {
   "cell_type": "code",
   "execution_count": 26,
   "metadata": {},
   "outputs": [
    {
     "data": {
      "image/png": "[encoded data removed]",
      "text/plain": [
       "<Figure size 360x360 with 1 Axes>"
      ]
     },
     "metadata": {
      "needs_background": "light"
     },
     "output_type": "display_data"
    }
   ],
   "source": [
    "sns.displot(data=data, stat='density')\n",
    "\n",
    "x = np.linspace(0, np.max(data), data.size)\n",
    "y = gamma.pdf(x, a=alpha_hat, scale=theta_hat)\n",
    "z = gamma.pdf(x, a=alpha_mle, scale=theta_mle)\n",
    "\n",
    "plt.plot(x,z,'k--', label='M.L.E.')\n",
    "plt.plot(x,y,'r--', label=\"MoM\")\n",
    "plt.legend()\n",
    "plt.show()"
   ]
  },
  {
   "cell_type": "code",
   "execution_count": null,
   "metadata": {},
   "outputs": [],
   "source": []
  }
 ],
 "metadata": {
  "interpreter": {
   "hash": "dd35d0d2f47ffda01634c9676252f33987d44a0ea61035fce8b295334bc5a8d3"
  },
  "kernelspec": {
   "display_name": "Python 3.9.7 64-bit ('test': conda)",
   "language": "python",
   "name": "python3"
  },
  "language_info": {
   "codemirror_mode": {
    "name": "ipython",
    "version": 3
   },
   "file_extension": ".py",
   "mimetype": "text/x-python",
   "name": "python",
   "nbconvert_exporter": "python",
   "pygments_lexer": "ipython3",
   "version": "3.9.7"
  },
  "orig_nbformat": 4
 },
 "nbformat": 4,
 "nbformat_minor": 2
}
