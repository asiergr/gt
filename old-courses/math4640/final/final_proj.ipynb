{
 "cells": [
  {
   "cell_type": "code",
   "execution_count": 1,
   "metadata": {},
   "outputs": [],
   "source": [
    "import pandas as pd\n",
    "import numpy as np\n",
    "import matplotlib.pyplot as plt"
   ]
  },
  {
   "cell_type": "code",
   "execution_count": 2,
   "metadata": {},
   "outputs": [
    {
     "data": {
      "text/html": [
       "<div>\n",
       "<style scoped>\n",
       "    .dataframe tbody tr th:only-of-type {\n",
       "        vertical-align: middle;\n",
       "    }\n",
       "\n",
       "    .dataframe tbody tr th {\n",
       "        vertical-align: top;\n",
       "    }\n",
       "\n",
       "    .dataframe thead th {\n",
       "        text-align: right;\n",
       "    }\n",
       "</style>\n",
       "<table border=\"1\" class=\"dataframe\">\n",
       "  <thead>\n",
       "    <tr style=\"text-align: right;\">\n",
       "      <th></th>\n",
       "      <th>0.1</th>\n",
       "    </tr>\n",
       "    <tr>\n",
       "      <th>0</th>\n",
       "      <th></th>\n",
       "    </tr>\n",
       "  </thead>\n",
       "  <tbody>\n",
       "    <tr>\n",
       "      <th>1</th>\n",
       "      <td>0</td>\n",
       "    </tr>\n",
       "    <tr>\n",
       "      <th>2</th>\n",
       "      <td>0</td>\n",
       "    </tr>\n",
       "    <tr>\n",
       "      <th>3</th>\n",
       "      <td>0</td>\n",
       "    </tr>\n",
       "    <tr>\n",
       "      <th>4</th>\n",
       "      <td>0</td>\n",
       "    </tr>\n",
       "    <tr>\n",
       "      <th>5</th>\n",
       "      <td>2</td>\n",
       "    </tr>\n",
       "    <tr>\n",
       "      <th>...</th>\n",
       "      <td>...</td>\n",
       "    </tr>\n",
       "    <tr>\n",
       "      <th>90</th>\n",
       "      <td>795</td>\n",
       "    </tr>\n",
       "    <tr>\n",
       "      <th>91</th>\n",
       "      <td>551</td>\n",
       "    </tr>\n",
       "    <tr>\n",
       "      <th>92</th>\n",
       "      <td>632</td>\n",
       "    </tr>\n",
       "    <tr>\n",
       "      <th>93</th>\n",
       "      <td>488</td>\n",
       "    </tr>\n",
       "    <tr>\n",
       "      <th>94</th>\n",
       "      <td>665</td>\n",
       "    </tr>\n",
       "  </tbody>\n",
       "</table>\n",
       "<p>94 rows × 1 columns</p>\n",
       "</div>"
      ],
      "text/plain": [
       "    0.1\n",
       "0      \n",
       "1     0\n",
       "2     0\n",
       "3     0\n",
       "4     0\n",
       "5     2\n",
       "..  ...\n",
       "90  795\n",
       "91  551\n",
       "92  632\n",
       "93  488\n",
       "94  665\n",
       "\n",
       "[94 rows x 1 columns]"
      ]
     },
     "execution_count": 2,
     "metadata": {},
     "output_type": "execute_result"
    }
   ],
   "source": [
    "data = pd.read_csv(\"./new-cases-per-week.csv\", index_col=0)\n",
    "data"
   ]
  },
  {
   "cell_type": "markdown",
   "metadata": {},
   "source": [
    "# Part 1: Analyzing COVID data"
   ]
  },
  {
   "cell_type": "markdown",
   "metadata": {},
   "source": [
    "## Analysis (4 points)"
   ]
  },
  {
   "cell_type": "markdown",
   "metadata": {},
   "source": [
    "### 1. Cubic splines."
   ]
  },
  {
   "cell_type": "code",
   "execution_count": 3,
   "metadata": {},
   "outputs": [
    {
     "name": "stdout",
     "output_type": "stream",
     "text": [
      "(372, 372)\n",
      "(94, 4)\n"
     ]
    },
    {
     "data": {
      "text/plain": [
       "(array([[   1.,    1.,    1., ...,    0.,    0.,    0.],\n",
       "        [   1.,    2.,    4., ...,    0.,    0.,    0.],\n",
       "        [   0.,    0.,    0., ...,    0.,    0.,    0.],\n",
       "        ...,\n",
       "        [   0.,    0.,    0., ...,    0.,   -2., -558.],\n",
       "        [   0.,    0.,    2., ...,    0.,    0.,    0.],\n",
       "        [   0.,    0.,    0., ...,    0.,    2.,  564.]]),\n",
       " array([0.000e+00, 0.000e+00, 0.000e+00, 0.000e+00, 0.000e+00, 0.000e+00,\n",
       "        0.000e+00, 2.000e+00, 2.000e+00, 5.000e+00, 5.000e+00, 4.200e+01,\n",
       "        4.200e+01, 1.490e+02, 1.490e+02, 4.260e+02, 4.260e+02, 6.160e+02,\n",
       "        6.160e+02, 6.040e+02, 6.040e+02, 4.110e+02, 4.110e+02, 5.150e+02,\n",
       "        5.150e+02, 4.810e+02, 4.810e+02, 3.630e+02, 3.630e+02, 1.790e+02,\n",
       "        1.790e+02, 5.160e+02, 5.160e+02, 3.790e+02, 3.790e+02, 3.010e+02,\n",
       "        3.010e+02, 3.030e+02, 3.030e+02, 7.600e+02, 7.600e+02, 1.225e+03,\n",
       "        1.225e+03, 2.081e+03, 2.081e+03, 2.388e+03, 2.388e+03, 2.423e+03,\n",
       "        2.423e+03, 2.698e+03, 2.698e+03, 2.129e+03, 2.129e+03, 2.144e+03,\n",
       "        2.144e+03, 1.620e+03, 1.620e+03, 1.451e+03, 1.451e+03, 9.390e+02,\n",
       "        9.390e+02, 7.110e+02, 7.110e+02, 6.560e+02, 6.560e+02, 7.300e+02,\n",
       "        7.300e+02, 4.370e+02, 4.370e+02, 7.080e+02, 7.080e+02, 9.370e+02,\n",
       "        9.370e+02, 8.120e+02, 8.120e+02, 1.079e+03, 1.079e+03, 2.892e+03,\n",
       "        2.892e+03, 1.388e+03, 1.388e+03, 1.881e+03, 1.881e+03, 2.311e+03,\n",
       "        2.311e+03, 1.937e+03, 1.937e+03, 3.272e+03, 3.272e+03, 3.513e+03,\n",
       "        3.513e+03, 3.907e+03, 3.907e+03, 3.618e+03, 3.618e+03, 4.308e+03,\n",
       "        4.308e+03, 6.011e+03, 6.011e+03, 5.027e+03, 5.027e+03, 4.114e+03,\n",
       "        4.114e+03, 3.001e+03, 3.001e+03, 2.293e+03, 2.293e+03, 1.841e+03,\n",
       "        1.841e+03, 1.724e+03, 1.724e+03, 2.219e+03, 2.219e+03, 1.731e+03,\n",
       "        1.731e+03, 1.094e+03, 1.094e+03, 1.344e+03, 1.344e+03, 1.075e+03,\n",
       "        1.075e+03, 1.088e+03, 1.088e+03, 1.077e+03, 1.077e+03, 9.640e+02,\n",
       "        9.640e+02, 1.002e+03, 1.002e+03, 9.190e+02, 9.190e+02, 6.720e+02,\n",
       "        6.720e+02, 4.790e+02, 4.790e+02, 3.780e+02, 3.780e+02, 1.640e+02,\n",
       "        1.640e+02, 2.390e+02, 2.390e+02, 2.140e+02, 2.140e+02, 2.430e+02,\n",
       "        2.430e+02, 2.080e+02, 2.080e+02, 2.640e+02, 2.640e+02, 5.360e+02,\n",
       "        5.360e+02, 7.890e+02, 7.890e+02, 1.544e+03, 1.544e+03, 2.293e+03,\n",
       "        2.293e+03, 2.833e+03, 2.833e+03, 2.967e+03, 2.967e+03, 3.183e+03,\n",
       "        3.183e+03, 3.334e+03, 3.334e+03, 3.271e+03, 3.271e+03, 2.888e+03,\n",
       "        2.888e+03, 2.797e+03, 2.797e+03, 1.396e+03, 1.396e+03, 1.439e+03,\n",
       "        1.439e+03, 1.410e+03, 1.410e+03, 7.950e+02, 7.950e+02, 5.510e+02,\n",
       "        5.510e+02, 6.320e+02, 6.320e+02, 4.880e+02, 4.880e+02, 6.650e+02,\n",
       "        0.000e+00, 0.000e+00, 0.000e+00, 0.000e+00, 0.000e+00, 0.000e+00,\n",
       "        0.000e+00, 0.000e+00, 0.000e+00, 0.000e+00, 0.000e+00, 0.000e+00,\n",
       "        0.000e+00, 0.000e+00, 0.000e+00, 0.000e+00, 0.000e+00, 0.000e+00,\n",
       "        0.000e+00, 0.000e+00, 0.000e+00, 0.000e+00, 0.000e+00, 0.000e+00,\n",
       "        0.000e+00, 0.000e+00, 0.000e+00, 0.000e+00, 0.000e+00, 0.000e+00,\n",
       "        0.000e+00, 0.000e+00, 0.000e+00, 0.000e+00, 0.000e+00, 0.000e+00,\n",
       "        0.000e+00, 0.000e+00, 0.000e+00, 0.000e+00, 0.000e+00, 0.000e+00,\n",
       "        0.000e+00, 0.000e+00, 0.000e+00, 0.000e+00, 0.000e+00, 0.000e+00,\n",
       "        0.000e+00, 0.000e+00, 0.000e+00, 0.000e+00, 0.000e+00, 0.000e+00,\n",
       "        0.000e+00, 0.000e+00, 0.000e+00, 0.000e+00, 0.000e+00, 0.000e+00,\n",
       "        0.000e+00, 0.000e+00, 0.000e+00, 0.000e+00, 0.000e+00, 0.000e+00,\n",
       "        0.000e+00, 0.000e+00, 0.000e+00, 0.000e+00, 0.000e+00, 0.000e+00,\n",
       "        0.000e+00, 0.000e+00, 0.000e+00, 0.000e+00, 0.000e+00, 0.000e+00,\n",
       "        0.000e+00, 0.000e+00, 0.000e+00, 0.000e+00, 0.000e+00, 0.000e+00,\n",
       "        0.000e+00, 0.000e+00, 0.000e+00, 0.000e+00, 0.000e+00, 0.000e+00,\n",
       "        0.000e+00, 0.000e+00, 0.000e+00, 0.000e+00, 0.000e+00, 0.000e+00,\n",
       "        0.000e+00, 0.000e+00, 0.000e+00, 0.000e+00, 0.000e+00, 0.000e+00,\n",
       "        0.000e+00, 0.000e+00, 0.000e+00, 0.000e+00, 0.000e+00, 0.000e+00,\n",
       "        0.000e+00, 0.000e+00, 0.000e+00, 0.000e+00, 0.000e+00, 0.000e+00,\n",
       "        0.000e+00, 0.000e+00, 0.000e+00, 0.000e+00, 0.000e+00, 0.000e+00,\n",
       "        0.000e+00, 0.000e+00, 0.000e+00, 0.000e+00, 0.000e+00, 0.000e+00,\n",
       "        0.000e+00, 0.000e+00, 0.000e+00, 0.000e+00, 0.000e+00, 0.000e+00,\n",
       "        0.000e+00, 0.000e+00, 0.000e+00, 0.000e+00, 0.000e+00, 0.000e+00,\n",
       "        0.000e+00, 0.000e+00, 0.000e+00, 0.000e+00, 0.000e+00, 0.000e+00,\n",
       "        0.000e+00, 0.000e+00, 0.000e+00, 0.000e+00, 0.000e+00, 0.000e+00,\n",
       "        0.000e+00, 0.000e+00, 0.000e+00, 0.000e+00, 0.000e+00, 0.000e+00,\n",
       "        0.000e+00, 0.000e+00, 0.000e+00, 0.000e+00, 0.000e+00, 0.000e+00,\n",
       "        0.000e+00, 0.000e+00, 0.000e+00, 0.000e+00, 0.000e+00, 0.000e+00,\n",
       "        0.000e+00, 0.000e+00, 0.000e+00, 0.000e+00, 0.000e+00, 0.000e+00,\n",
       "        0.000e+00, 0.000e+00, 0.000e+00, 0.000e+00, 0.000e+00, 0.000e+00,\n",
       "        0.000e+00, 0.000e+00, 0.000e+00, 0.000e+00, 0.000e+00, 0.000e+00]))"
      ]
     },
     "execution_count": 3,
     "metadata": {},
     "output_type": "execute_result"
    }
   ],
   "source": [
    "m = data.shape[0]\n",
    "n = m - 1 # number of eqns\n",
    "splines = np.zeros((n * 4, n * 4))\n",
    "t_vec = np.array(data.index)\n",
    "\n",
    "print(splines.shape)\n",
    "\n",
    "# Fist we fill in the matrix with the terms of the cubic equation\n",
    "# This is essentially a vandermonde matrix so\n",
    "vander = np.vander(t_vec, N=4, increasing=True)\n",
    "print(vander.shape)\n",
    "offset = 0\n",
    "# Now we require each endpoint of each spline to be equal to the point evaluated.\n",
    "for i in range(0, n):\n",
    "    # print(i*2 + 1, i*2 + 2)\n",
    "    splines[i*2, offset : offset + 4] = vander[i]\n",
    "    splines[i*2 + 1, offset : offset + 4] = vander[i + 1]\n",
    "    offset += 4\n",
    "# Fill to n*2 - 1\n",
    "\n",
    "# We set the derivatites of the functions to be continuous\n",
    "# There are n - 1 points where we can do this\n",
    "start_of_first_deriv = n * 2\n",
    "offset = 0\n",
    "for i in range(1, n):\n",
    "    splines[i - 1 + start_of_first_deriv, offset: offset + 8] = np.array([0, 1, 2*t_vec[i], 3*t_vec[i]**2, 0, -1, -2*t_vec[i], -3*t_vec[i]**2 ])\n",
    "    offset += 4\n",
    "\n",
    "# Now we just gotta fill it until the last two rows\n",
    "start_of_second_deriv = start_of_first_deriv + n - 1\n",
    "offset = 0\n",
    "for i in range(1, n):\n",
    "    splines[i - 1 + start_of_second_deriv, offset: offset + 8] = np.array([0, 0, 2, 6*t_vec[i], 0, 0, -2, -6*t_vec[i]])\n",
    "    offset += 4\n",
    "\n",
    "# Now we require the endpoints second derivative to be 0\n",
    "splines[-2, :4] = np.array([0, 0, 2, 6*t_vec[0]])\n",
    "splines[-1, -4:] = np.array([0, 0, 2, 6*t_vec[-1]])\n",
    "\n",
    "# y = np.zeros((n*4,1))\n",
    "# Zipping two vectors, flattening, remove 1st and last, reshape, gives us desired shape\n",
    "y = np.stack((np.array(data), np.array(data)), axis = 1).flatten()[1:-1].reshape(n * 2, 1)\n",
    "# We add a bunch of zero entries\n",
    "y = np.append(y, np.zeros((n*2, 1)))\n",
    "splines, y\n",
    "\n"
   ]
  },
  {
   "cell_type": "markdown",
   "metadata": {},
   "source": [
    "Now we can solve the system to get the coefficients"
   ]
  },
  {
   "cell_type": "code",
   "execution_count": 4,
   "metadata": {},
   "outputs": [
    {
     "name": "stdout",
     "output_type": "stream",
     "text": [
      "(93, 4)\n"
     ]
    },
    {
     "data": {
      "text/plain": [
       "array([[ 0.00000000e+00,  1.45245809e-01, -2.17868714e-01,\n",
       "         7.26229045e-02],\n",
       "       [ 3.48589942e+00, -5.08360332e+00,  2.39655585e+00,\n",
       "        -3.63114523e-01],\n",
       "       [-4.35737427e+01,  4.19760388e+01, -1.32899915e+01,\n",
       "         1.37983519e+00],\n",
       "       [ 2.46734187e+02, -1.75754909e+02,  4.11427454e+01,\n",
       "        -3.15622622e+00],\n",
       "       [-1.42842780e+03,  8.29342286e+02, -1.59876694e+02,\n",
       "         1.02450697e+01],\n",
       "       [ 1.82650261e+03, -7.98122923e+02,  1.11367508e+02,\n",
       "        -4.82405260e+00],\n",
       "       [-1.52806887e+04,  6.53353049e+03, -9.36011551e+02,\n",
       "         4.50511407e+01],\n",
       "       [ 4.63803165e+04, -1.65893465e+04,  1.95434807e+03,\n",
       "        -7.53805102e+01],\n",
       "       [-8.18636140e+03,  1.59954618e+03, -6.66400032e+01,\n",
       "        -5.29100068e-01],\n",
       "       [ 2.87876281e+04, -9.49265067e+03,  1.04257968e+03,\n",
       "        -3.75030896e+01],\n",
       "       [-2.49450665e+05,  6.63905202e+04, -5.85589040e+03,\n",
       "         1.71541458e+02],\n",
       "       [ 3.41878196e+05, -8.14416951e+04,  6.46346088e+03,\n",
       "        -1.70662744e+02],\n",
       "       [-2.00280461e+05,  4.36718411e+04, -3.16065730e+03,\n",
       "         7.61095171e+01],\n",
       "       [ 2.27467544e+05, -4.79884456e+04,  3.38650604e+03,\n",
       "        -7.97753243e+01],\n",
       "       [-9.22621435e+05,  1.82029350e+05, -1.19480137e+04,\n",
       "         2.60991780e+02],\n",
       "       [ 1.69137850e+06, -3.08095637e+05,  1.86847980e+04,\n",
       "        -3.77191797e+02],\n",
       "       [-1.40365038e+06,  2.38085929e+05, -1.34435294e+04,\n",
       "         2.52775408e+02],\n",
       "       [ 6.59041953e+05, -1.05696126e+05,  5.65547367e+03,\n",
       "        -1.00909834e+02],\n",
       "       [-1.21191329e+06,  1.89717860e+05, -9.89263084e+03,\n",
       "         1.71863929e+02],\n",
       "       [ 1.85536520e+06, -2.70373914e+05,  1.31119578e+04,\n",
       "        -2.11545882e+02],\n",
       "       [-2.20896802e+06,  3.10245117e+05, -1.45365675e+04,\n",
       "         2.27319599e+02],\n",
       "       [ 3.56280287e+06, -4.76814549e+05,  2.12388719e+04,\n",
       "        -3.14732513e+02],\n",
       "       [-1.38117201e+06,  1.68051740e+05, -6.79879281e+03,\n",
       "         9.16104540e+01],\n",
       "       [-3.22916769e+06,  3.99051200e+05, -1.64237703e+04,\n",
       "         2.25290697e+02],\n",
       "       [ 7.80308137e+06, -9.24818688e+05,  3.65310252e+04,\n",
       "        -4.80773243e+02],\n",
       "       [-1.14351779e+07,  1.29498046e+06, -4.88458652e+04,\n",
       "         6.13802275e+02],\n",
       "       [ 1.14017892e+07, -1.24246033e+06,  4.51334234e+04,\n",
       "        -5.46435856e+02],\n",
       "       [-1.04487268e+07,  1.09866638e+06, -3.84782449e+04,\n",
       "         4.48941148e+02],\n",
       "       [ 9.16661141e+06, -9.30506534e+05,  3.14932350e+04,\n",
       "        -3.55328736e+02],\n",
       "       [-7.83535698e+06,  7.69690305e+05, -2.51799930e+04,\n",
       "         2.74373797e+02],\n",
       "       [ 3.76943654e+06, -3.53354229e+05,  1.10472500e+04,\n",
       "        -1.15166451e+02],\n",
       "       [-2.47150618e+06,  2.31734151e+05, -7.23676183e+03,\n",
       "         7.52920062e+01],\n",
       "       [ 8.49982922e+06, -7.65659976e+05,  2.29873026e+04,\n",
       "        -2.30001574e+02],\n",
       "       [-1.42460191e+07,  1.24132664e+06, -3.60417156e+04,\n",
       "         3.48714291e+02],\n",
       "       [ 1.07316644e+07, -8.99617663e+05,  2.51281217e+04,\n",
       "        -2.33855588e+02],\n",
       "       [ 7.20982697e+05, -6.53941847e+04,  1.95524734e+03,\n",
       "        -1.92919367e+01],\n",
       "       [-2.06740775e+05,  9.82663740e+03, -7.77478532e+01,\n",
       "        -9.76664710e-01],\n",
       "       [-4.24677977e+07,  3.34622586e+06, -8.78777275e+04,\n",
       "         7.69198596e+02],\n",
       "       [ 1.17160599e+08, -8.93288157e+06,  2.26971181e+05,\n",
       "        -1.92181772e+03],\n",
       "       [-1.37360360e+08,  1.01561904e+07, -2.50255618e+05,\n",
       "         2.05507227e+03],\n",
       "       [ 7.21280277e+07, -5.17222826e+06,  1.23608251e+05,\n",
       "        -9.84471379e+02],\n",
       "       [ 1.23179246e+07, -9.00078034e+05,  2.18903890e+04,\n",
       "        -1.77186757e+02],\n",
       "       [-7.74776918e+07,  5.36473241e+06, -1.23802877e+05,\n",
       "         9.52218407e+02],\n",
       "       [ 9.89303033e+07, -6.66308544e+06,  1.49556619e+05,\n",
       "        -1.11868687e+03],\n",
       "       [-6.85771244e+07,  4.50407641e+06, -9.86025328e+04,\n",
       "         7.19529073e+02],\n",
       "       [ 5.13367875e+07, -3.31639610e+06,  7.14077393e+04,\n",
       "        -5.12429421e+02],\n",
       "       [-5.31733164e+07,  3.35446159e+06, -7.05254031e+04,\n",
       "         4.94188611e+02],\n",
       "       [-2.03812808e+07,  1.30495937e+06, -2.78274401e+04,\n",
       "         1.97674979e+02],\n",
       "       [ 1.50040767e+08, -9.12904355e+06,  1.85111395e+05,\n",
       "        -1.25088853e+03],\n",
       "       [-1.44555189e+08,  8.54671380e+06, -1.68403752e+05,\n",
       "         1.10587912e+03],\n",
       "       [ 5.71415961e+07, -3.31780297e+06,  6.42338317e+04,\n",
       "        -4.14627962e+02],\n",
       "       [-4.07582264e+07,  2.33026371e+06, -4.43828354e+04,\n",
       "         2.81632724e+02],\n",
       "       [ 1.70857971e+07, -9.43926299e+05,  1.73943347e+04,\n",
       "        -1.06902936e+02],\n",
       "       [ 7.28128628e+05, -3.51669383e+04,  5.65457650e+02,\n",
       "        -3.02097919e+00],\n",
       "       [-3.27145495e+07,  1.78897914e+06, -3.26008347e+04,\n",
       "         1.97986853e+02],\n",
       "       [ 9.19575822e+07, -4.88988506e+06,  8.66645974e+04,\n",
       "        -5.11926433e+02],\n",
       "       [-5.00197632e+07,  2.58260680e+06, -4.44317510e+04,\n",
       "         2.54718879e+02],\n",
       "       [-6.41326114e+07,  3.31258171e+06, -5.70175253e+04,\n",
       "         3.27050916e+02],\n",
       "       [ 1.11255603e+08, -5.60546310e+06,  9.41357766e+04,\n",
       "        -5.26922541e+02],\n",
       "       [-8.34817438e+07,  4.13140425e+06, -6.81453460e+04,\n",
       "         3.74639250e+02],\n",
       "       [ 4.02850283e+07, -1.95548618e+06,  3.16397431e+04,\n",
       "        -1.70634460e+02],\n",
       "       [-8.34428685e+05,  3.41649663e+04, -4.51404415e+02,\n",
       "         1.89859080e+00],\n",
       "       [-2.16237129e+07,  1.02413088e+06, -1.61651491e+04,\n",
       "         8.50400971e+01],\n",
       "       [ 2.40153153e+07, -1.11519857e+06,  1.72618735e+04,\n",
       "        -8.90589792e+01],\n",
       "       [-2.21658791e+05,  3.43100775e+03,  5.21877660e+01,\n",
       "        -8.04180336e-01],\n",
       "       [-1.46194242e+07,  6.57874891e+05, -9.86362865e+03,\n",
       "         4.92757005e+01],\n",
       "       [-6.32608831e+06,  2.86531492e+05, -4.32118986e+03,\n",
       "         2.17013782e+01],\n",
       "       [ 3.13373915e+07, -1.37509262e+06,  2.01144588e+04,\n",
       "        -9.80812133e+01],\n",
       "       [-5.52919720e+07,  2.39140145e+06, -3.44724117e+04,\n",
       "         1.65623475e+02],\n",
       "       [ 5.72244318e+07, -2.43073014e+06,  3.44151824e+04,\n",
       "        -1.62412687e+02],\n",
       "       [-3.49161624e+07,  1.46253440e+06, -2.04195294e+04,\n",
       "         9.50272744e+01],\n",
       "       [ 2.43271355e+07, -1.00593634e+06,  1.38647865e+04,\n",
       "        -6.36964103e+01],\n",
       "       [-1.66965656e+07,  6.79969177e+05, -9.22980971e+03,\n",
       "         4.17583668e+01],\n",
       "       [-2.07101377e+07,  8.42681560e+05, -1.14286257e+04,\n",
       "         5.16629433e+01],\n",
       "       [ 5.31488193e+07, -2.11167672e+06,  2.79628180e+04,\n",
       "        -1.23410140e+02],\n",
       "       [-9.18834762e+07,  3.61328232e+06, -4.73655903e+04,\n",
       "         2.06977616e+02],\n",
       "       [ 8.63825892e+07, -3.33214881e+06,  4.28348138e+04,\n",
       "        -1.83500324e+02],\n",
       "       [-9.72558223e+06,  3.64319327e+05, -4.55580323e+03,\n",
       "         1.90236805e+01],\n",
       "       [ 4.67856005e+07, -1.78167495e+06,  2.26086813e+04,\n",
       "        -9.55943978e+01],\n",
       "       [-8.73319334e+07,  3.24773257e+06, -4.02589127e+04,\n",
       "         1.66353911e+02],\n",
       "       [ 4.45585193e+07, -1.63709901e+06,  2.00476501e+04,\n",
       "        -8.18212447e+01],\n",
       "       [-8.23624207e+06,  2.94416646e+05, -3.50741897e+03,\n",
       "         1.39310684e+01],\n",
       "       [ 7.00037158e+07, -2.53353364e+06,  3.05642712e+04,\n",
       "        -1.22903029e+02],\n",
       "       [-2.23138244e+08,  7.93582206e+06, -9.40709157e+04,\n",
       "         3.71681046e+02],\n",
       "       [ 4.66832546e+08, -1.64160882e+07,  1.92422146e+05,\n",
       "        -7.51821157e+02],\n",
       "       [-6.68797570e+08,  2.31989159e+07, -2.68217436e+05,\n",
       "         1.03360358e+03],\n",
       "       [ 4.25763972e+08, -1.45445856e+07,  1.65615914e+05,\n",
       "        -6.28593162e+02],\n",
       "       [ 2.14042244e+07, -7.59594175e+05,  8.96828438e+03,\n",
       "        -3.52309299e+01],\n",
       "       [-1.83563970e+08,  6.14944608e+06, -6.86613814e+04,\n",
       "         2.55516882e+02],\n",
       "       [ 2.44587176e+07, -7.84643500e+05,  8.38405836e+03,\n",
       "        -2.98365986e+01],\n",
       "       [ 1.39253119e+08, -4.56907431e+06,  4.99712101e+04,\n",
       "        -1.82170488e+02],\n",
       "       [-1.64971746e+08,  5.35130172e+06, -5.78589642e+04,\n",
       "         2.08518549e+02],\n",
       "       [ 8.79359990e+07, -2.80701264e+06,  2.98648462e+04,\n",
       "        -1.05903710e+02]])"
      ]
     },
     "execution_count": 4,
     "metadata": {},
     "output_type": "execute_result"
    }
   ],
   "source": [
    "coefficients = np.linalg.solve(splines, y)\n",
    "coefficients = coefficients.reshape(n, 4)\n",
    "print(coefficients.shape)\n",
    "coefficients"
   ]
  },
  {
   "cell_type": "markdown",
   "metadata": {},
   "source": [
    "Here we have the coefficients for all 13 equations. Graph?"
   ]
  },
  {
   "cell_type": "markdown",
   "metadata": {},
   "source": [
    "### 2. Graph & Integrate fit"
   ]
  },
  {
   "cell_type": "markdown",
   "metadata": {},
   "source": [
    "We start by plotting this beautiful curve that took me five hours to make."
   ]
  },
  {
   "cell_type": "code",
   "execution_count": 5,
   "metadata": {},
   "outputs": [
    {
     "data": {
      "image/png": "[encoded data removed]",
      "text/plain": [
       "<Figure size 432x288 with 1 Axes>"
      ]
     },
     "metadata": {
      "needs_background": "light"
     },
     "output_type": "display_data"
    }
   ],
   "source": [
    "fig = plt.figure()\n",
    "plt.xlabel(\"Week\")\n",
    "plt.ylabel(\"New Cases\")\n",
    "for i in range(data.index[0], data.index[-1]):\n",
    "    x = np.linspace(i, i+1, 100)\n",
    "    idx = i - data.index[0]\n",
    "    fn = lambda x: coefficients[idx, 0] + coefficients[idx, 1] * x + coefficients[idx, 2] * (x**2) + coefficients[idx, 3] * (x**3)\n",
    "    plt.plot(x, fn(x))\n",
    "    "
   ]
  },
  {
   "cell_type": "markdown",
   "metadata": {},
   "source": [
    "Now we can integrate the fit and find the error."
   ]
  },
  {
   "cell_type": "code",
   "execution_count": 6,
   "metadata": {},
   "outputs": [
    {
     "data": {
      "text/plain": [
       "0.1    356.081374\n",
       "dtype: float64"
      ]
     },
     "execution_count": 6,
     "metadata": {},
     "output_type": "execute_result"
    }
   ],
   "source": [
    "cum_sum = 0\n",
    "for i in range(data.index[0], data.index[-1]):\n",
    "    idx = i - data.index[0]\n",
    "    # Cubic polynomials have a closed form integral function described below\n",
    "    integral_fn = lambda x: coefficients[idx, 0] * x + 0.5 * coefficients[idx, 1] * (x**2) + 1/3 * coefficients[idx, 2] * (x**3) + 0.25* coefficients[idx, 3] * (x**4)\n",
    "    # We can just evaluate F(b) - F(a)\n",
    "    cum_sum += integral_fn(i + 1) - integral_fn(i)\n",
    "error = data.sum() - cum_sum\n",
    "error"
   ]
  },
  {
   "cell_type": "markdown",
   "metadata": {},
   "source": [
    "The error is roughly 356 (pretty decent if you ask me)."
   ]
  },
  {
   "cell_type": "markdown",
   "metadata": {},
   "source": [
    "### 3. Newton-Cotes"
   ]
  },
  {
   "cell_type": "markdown",
   "metadata": {},
   "source": [
    "Now we will integrate the function using Simpson's Rule, a Newton-Cotes quadrature method. We use a step size of 1 to keep things simple(r)."
   ]
  },
  {
   "cell_type": "code",
   "execution_count": 7,
   "metadata": {},
   "outputs": [
    {
     "data": {
      "text/plain": [
       "0.1    554.166667\n",
       "dtype: float64"
      ]
     },
     "execution_count": 7,
     "metadata": {},
     "output_type": "execute_result"
    }
   ],
   "source": [
    "cum_sum = 0\n",
    "for i in range(data.index[0], data.index[-2]):\n",
    "    fn = lambda x: int(data.iloc[x])\n",
    "    cum_sum += 1/6*(fn(i) + 4*fn((i + i+1) // 2) + fn(i + 1))\n",
    "error = data.sum() - cum_sum\n",
    "error\n"
   ]
  },
  {
   "cell_type": "markdown",
   "metadata": {},
   "source": [
    "The error here is roughly 554. The error between the methods is 198, which is a 1.4% relative error over the total sum. This indicates that the difference in using both methods is not significant. That being said, the spline case is more accurate. This makes sense because the spline interpolation is done with cubic polynomials, whereas Simpson's method uses a quadratic interpolating polynomial. Hence, given the same timestep it is reasonable to assume that the error will be higher when using Simpson's rule."
   ]
  },
  {
   "cell_type": "markdown",
   "metadata": {},
   "source": [
    "### 4. Computational cost"
   ]
  },
  {
   "cell_type": "markdown",
   "metadata": {},
   "source": [
    "It is quite evident that the quadrature method is computatinally cheaper. It requires an $O(n)$ loop and 3 array accesses, with some basic operations. This is contrasted with taking intergrals over the spline: first you must fill the matrix which is $O(n)$, then you must solve it, and then run another loop to find the values of the closed integrals. "
   ]
  },
  {
   "cell_type": "markdown",
   "metadata": {},
   "source": [
    "## Uncertainty"
   ]
  },
  {
   "cell_type": "markdown",
   "metadata": {},
   "source": [
    "First we add the noise. To do this we create a vector of the same size as the data with random values normally distributed around 1, then multiply them."
   ]
  },
  {
   "cell_type": "code",
   "execution_count": 8,
   "metadata": {},
   "outputs": [
    {
     "data": {
      "text/html": [
       "<div>\n",
       "<style scoped>\n",
       "    .dataframe tbody tr th:only-of-type {\n",
       "        vertical-align: middle;\n",
       "    }\n",
       "\n",
       "    .dataframe tbody tr th {\n",
       "        vertical-align: top;\n",
       "    }\n",
       "\n",
       "    .dataframe thead th {\n",
       "        text-align: right;\n",
       "    }\n",
       "</style>\n",
       "<table border=\"1\" class=\"dataframe\">\n",
       "  <thead>\n",
       "    <tr style=\"text-align: right;\">\n",
       "      <th></th>\n",
       "      <th>0.1</th>\n",
       "    </tr>\n",
       "    <tr>\n",
       "      <th>0</th>\n",
       "      <th></th>\n",
       "    </tr>\n",
       "  </thead>\n",
       "  <tbody>\n",
       "    <tr>\n",
       "      <th>1</th>\n",
       "      <td>0</td>\n",
       "    </tr>\n",
       "    <tr>\n",
       "      <th>2</th>\n",
       "      <td>0</td>\n",
       "    </tr>\n",
       "    <tr>\n",
       "      <th>3</th>\n",
       "      <td>0</td>\n",
       "    </tr>\n",
       "    <tr>\n",
       "      <th>4</th>\n",
       "      <td>0</td>\n",
       "    </tr>\n",
       "    <tr>\n",
       "      <th>5</th>\n",
       "      <td>2</td>\n",
       "    </tr>\n",
       "    <tr>\n",
       "      <th>...</th>\n",
       "      <td>...</td>\n",
       "    </tr>\n",
       "    <tr>\n",
       "      <th>90</th>\n",
       "      <td>660</td>\n",
       "    </tr>\n",
       "    <tr>\n",
       "      <th>91</th>\n",
       "      <td>578</td>\n",
       "    </tr>\n",
       "    <tr>\n",
       "      <th>92</th>\n",
       "      <td>633</td>\n",
       "    </tr>\n",
       "    <tr>\n",
       "      <th>93</th>\n",
       "      <td>367</td>\n",
       "    </tr>\n",
       "    <tr>\n",
       "      <th>94</th>\n",
       "      <td>643</td>\n",
       "    </tr>\n",
       "  </tbody>\n",
       "</table>\n",
       "<p>94 rows × 1 columns</p>\n",
       "</div>"
      ],
      "text/plain": [
       "    0.1\n",
       "0      \n",
       "1     0\n",
       "2     0\n",
       "3     0\n",
       "4     0\n",
       "5     2\n",
       "..  ...\n",
       "90  660\n",
       "91  578\n",
       "92  633\n",
       "93  367\n",
       "94  643\n",
       "\n",
       "[94 rows x 1 columns]"
      ]
     },
     "execution_count": 8,
     "metadata": {},
     "output_type": "execute_result"
    }
   ],
   "source": [
    "mu, sigma = 1, 0.1\n",
    "noise = np.random.normal(mu, sigma, (m, 1))\n",
    "noisy_data = abs(data * noise).astype(int)\n",
    "noisy_data"
   ]
  },
  {
   "cell_type": "markdown",
   "metadata": {},
   "source": [
    "Now we repeat steps 1-3"
   ]
  },
  {
   "cell_type": "code",
   "execution_count": 9,
   "metadata": {},
   "outputs": [
    {
     "name": "stdout",
     "output_type": "stream",
     "text": [
      "(372, 372)\n",
      "(94, 4)\n"
     ]
    }
   ],
   "source": [
    "# Cubic Spline\n",
    "m = noisy_data.shape[0]\n",
    "n = m - 1 # number of eqns\n",
    "splines = np.zeros((n * 4, n * 4))\n",
    "t_vec = np.array(noisy_data.index)\n",
    "\n",
    "print(splines.shape)\n",
    "\n",
    "# Fist we fill in the matrix with the terms of the cubic equation\n",
    "# This is essentially a vandermonde matrix so\n",
    "vander = np.vander(t_vec, N=4, increasing=True)\n",
    "print(vander.shape)\n",
    "offset = 0\n",
    "# Now we require each endpoint of each spline to be equal to the point evaluated.\n",
    "for i in range(0, n):\n",
    "    # print(i*2 + 1, i*2 + 2)\n",
    "    splines[i*2, offset : offset + 4] = vander[i]\n",
    "    splines[i*2 + 1, offset : offset + 4] = vander[i + 1]\n",
    "    offset += 4\n",
    "# Fill to idx 185\n",
    "\n",
    "# We set t e derivatites of the functions to be continuous\n",
    "# There are 92 points where we can do this\n",
    "start_of_first_deriv = n * 2\n",
    "offset = 0\n",
    "for i in range(1, n):\n",
    "    splines[i - 1 + start_of_first_deriv, offset: offset + 8] = np.array([0, 1, 2*t_vec[i], 3*t_vec[i]**2, 0, -1, -2*t_vec[i], -3*t_vec[i]**2 ])\n",
    "    offset += 4\n",
    "\n",
    "# print(splines[start_of_first_deriv + n - 2])\n",
    "# Now we just gotta fill it until the last two rows\n",
    "start_of_second_deriv = start_of_first_deriv + n - 1\n",
    "offset = 0\n",
    "for i in range(1, n):\n",
    "    splines[i - 1 + start_of_second_deriv, offset: offset + 8] = np.array([0, 0, 2, 6*t_vec[i], 0, 0, -2, -6*t_vec[i]])\n",
    "    offset += 4\n",
    "\n",
    "# Now we require the endpoints second derivative to be 0\n",
    "splines[-2, :4] = np.array([0, 0, 2, 6*t_vec[0]])\n",
    "splines[-1, -4:] = np.array([0, 0, 2, 6*t_vec[-1]])\n",
    "\n",
    "# y = np.zeros((n*4,1))\n",
    "# Zipping two vectors, flattening, remove 1st and last, reshape, gives us desired shape\n",
    "y = np.stack((np.array(data), np.array(data)), axis = 1).flatten()[1:-1].reshape(n * 2, 1)\n",
    "y = np.append(y, np.zeros((n*2, 1)))"
   ]
  },
  {
   "cell_type": "code",
   "execution_count": 10,
   "metadata": {},
   "outputs": [
    {
     "name": "stdout",
     "output_type": "stream",
     "text": [
      "(93, 4)\n"
     ]
    }
   ],
   "source": [
    "# Find coefficients\n",
    "coefficients = np.linalg.solve(splines, y)\n",
    "coefficients = coefficients.reshape(n, 4)\n",
    "print(coefficients.shape)\n"
   ]
  },
  {
   "cell_type": "code",
   "execution_count": 11,
   "metadata": {},
   "outputs": [
    {
     "data": {
      "image/png": "[encoded data removed]",
      "text/plain": [
       "<Figure size 432x288 with 1 Axes>"
      ]
     },
     "metadata": {
      "needs_background": "light"
     },
     "output_type": "display_data"
    }
   ],
   "source": [
    "# Graph\n",
    "fig = plt.figure()\n",
    "plt.xlabel(\"Week\")\n",
    "plt.ylabel(\"New Cases\")\n",
    "for i in range(noisy_data.index[0], noisy_data.index[-1]):\n",
    "    x = np.linspace(i, i+1, 100)\n",
    "    idx = i - noisy_data.index[0]\n",
    "    fn = lambda x: coefficients[idx, 0] + coefficients[idx, 1] * x + coefficients[idx, 2] * (x**2) + coefficients[idx, 3] * (x**3)\n",
    "    plt.plot(x, fn(x))"
   ]
  },
  {
   "cell_type": "code",
   "execution_count": 12,
   "metadata": {},
   "outputs": [
    {
     "data": {
      "text/plain": [
       "0.1    2629.918626\n",
       "dtype: float64"
      ]
     },
     "execution_count": 12,
     "metadata": {},
     "output_type": "execute_result"
    }
   ],
   "source": [
    "# Integration\n",
    "cum_sum = 0\n",
    "for i in range(noisy_data.index[0], noisy_data.index[-1]):\n",
    "    idx = i - noisy_data.index[0]\n",
    "    # Cubic polynomials have a closed form integral function described below\n",
    "    integral_fn = lambda x: coefficients[idx, 0] * x + 0.5 * coefficients[idx, 1] * (x**2) + 1/3 * coefficients[idx, 2] * (x**3) + 0.25* coefficients[idx, 3] * (x**4)\n",
    "    # We can just evaluate F(b) - F(a)\n",
    "    cum_sum += integral_fn(i + 1) - integral_fn(i)\n",
    "error = abs(noisy_data.sum() - cum_sum)\n",
    "error"
   ]
  },
  {
   "cell_type": "code",
   "execution_count": 13,
   "metadata": {},
   "outputs": [
    {
     "data": {
      "text/plain": [
       "0.1    535.833333\n",
       "dtype: float64"
      ]
     },
     "execution_count": 13,
     "metadata": {},
     "output_type": "execute_result"
    }
   ],
   "source": [
    "# Newton-Cotes\n",
    "cum_sum = 0\n",
    "for i in range(noisy_data.index[0], noisy_data.index[-2]):\n",
    "    fn = lambda x: int(noisy_data.iloc[x])\n",
    "    cum_sum += 1/6*(fn(i) + 4*fn((i + i+1) // 2) + fn(i + 1))\n",
    "error = noisy_data.sum() - cum_sum\n",
    "error"
   ]
  },
  {
   "cell_type": "markdown",
   "metadata": {},
   "source": [
    "When the data is noisy we see better performance using the Newton-Cotes quadrature method. This is most likely because the polynomial fit is worse at performing with noise, as a polynomial is smooth. Hence, the deviations, peaks, and troughs intriduced by the noise cause it to perform worse. On the other hand, the quadrature method performs similarly, since it only interpolates between two points, meaning that it is more stable than integrating the spline. The conclusion does not change, it is usually more effecive to use a quadrature method rather than integrating a spline, if the intent is to find the area under a curve."
   ]
  },
  {
   "cell_type": "markdown",
   "metadata": {},
   "source": [
    "## Rounding"
   ]
  },
  {
   "cell_type": "markdown",
   "metadata": {},
   "source": [
    "### 1. Converting to USG float (they really can't get anything right huh)"
   ]
  },
  {
   "cell_type": "markdown",
   "metadata": {},
   "source": [
    "In effect what the rounding does is limit all numbers to having 2 non-zero leading digits (2 digit mantissa)."
   ]
  },
  {
   "cell_type": "code",
   "execution_count": 14,
   "metadata": {},
   "outputs": [
    {
     "name": "stdout",
     "output_type": "stream",
     "text": [
      "      0.1\n",
      "0        \n",
      "1     0.0\n",
      "2     0.0\n",
      "3     0.0\n",
      "4     0.0\n",
      "5     2.0\n",
      "..    ...\n",
      "90  800.0\n",
      "91  550.0\n",
      "92  630.0\n",
      "93  490.0\n",
      "94  660.0\n",
      "\n",
      "[94 rows x 1 columns]\n"
     ]
    },
    {
     "data": {
      "text/plain": [
       "<matplotlib.collections.PathCollection at 0x7fca6b681cd0>"
      ]
     },
     "execution_count": 14,
     "metadata": {},
     "output_type": "execute_result"
    },
    {
     "data": {
      "image/png": "[encoded data removed]",
      "text/plain": [
       "<Figure size 432x288 with 1 Axes>"
      ]
     },
     "metadata": {
      "needs_background": "light"
     },
     "output_type": "display_data"
    }
   ],
   "source": [
    "# This effect can be accomplished with the Python round() function, using log to calculate the number of figures in the number.\n",
    "ndigits = 1\n",
    "usg_data = data.applymap(lambda x: round(x, ndigits - int(np.floor(np.log10(abs(x))))) if x != 0 else 0.0)\n",
    "print(usg_data)\n",
    "plt.xlabel(\"Week\")\n",
    "plt.ylabel(\"New Cases\")\n",
    "plt.scatter(x=usg_data.index, y=usg_data)"
   ]
  },
  {
   "cell_type": "markdown",
   "metadata": {},
   "source": [
    "The plot looks similar, as expected."
   ]
  },
  {
   "cell_type": "markdown",
   "metadata": {},
   "source": [
    "### 2. Summing using new float rules"
   ]
  },
  {
   "cell_type": "code",
   "execution_count": 15,
   "metadata": {},
   "outputs": [
    {
     "data": {
      "text/plain": [
       "0.1    33443.0\n",
       "dtype: float64"
      ]
     },
     "execution_count": 15,
     "metadata": {},
     "output_type": "execute_result"
    }
   ],
   "source": [
    "# Special sum here so let's get fancy\n",
    "ndigits = 1\n",
    "cum_sum = 0\n",
    "for n in usg_data[\"0.1\"]:\n",
    "    cum_sum = round(cum_sum + n, ndigits - int(np.floor(np.log10(abs(cum_sum + n))))) if cum_sum + n != 0.0 else 0.0\n",
    "error = abs(data.sum() - cum_sum)\n",
    "error"
   ]
  },
  {
   "cell_type": "markdown",
   "metadata": {},
   "source": [
    "Error is as expected pretty significant."
   ]
  },
  {
   "cell_type": "markdown",
   "metadata": {},
   "source": [
    "# Part 2. Modeling the disease"
   ]
  },
  {
   "cell_type": "markdown",
   "metadata": {},
   "source": [
    "### 1. Solving the system"
   ]
  },
  {
   "cell_type": "code",
   "execution_count": 16,
   "metadata": {},
   "outputs": [],
   "source": [
    "def RK4SIR(n, beta, gamma, S0, I0, R0 = 0, dt = 1):\n",
    "    # define initial values\n",
    "    N = S0 + I0 + R0\n",
    "    S = np.append(np.array([S0]), np.zeros((n, 1)))\n",
    "    I = np.append(np.array([I0]), np.zeros((n, 1)))\n",
    "    R = np.append(np.array([R0]), np.zeros((n, 1)))\n",
    "\n",
    "    # define the functions\n",
    "    dSdt = lambda t, S, I: -1 * beta * S * I / N\n",
    "    dIdt = lambda t, S, I: beta * S * I / N - gamma * I\n",
    "    dRdt = lambda t, I: gamma * I\n",
    "\n",
    "    for i in range(n):\n",
    "        Si = S[i]\n",
    "        Ii = I[i]\n",
    "        Ri = R[i]\n",
    "\n",
    "        S_k1 = dSdt(i, Si, Ii)\n",
    "        I_k1 = dIdt(i, Si, Ii)\n",
    "        R_k1 = dRdt(i, Ii)\n",
    "\n",
    "        S_k2 = dSdt(i + dt / 2, Si + dt / 2 * S_k1, Ii + dt / 2 * I_k1)\n",
    "        I_k2 = dIdt(i + dt / 2, Si + dt / 2 * S_k1, Ii + dt / 2 * I_k1)\n",
    "        R_k2 = dRdt(i + dt / 2, Ii + dt /2 * I_k2)\n",
    "\n",
    "        S_k3 = dSdt(i + dt / 2, Si + dt / 2 * S_k2, Ii + dt / 2 * I_k2)\n",
    "        I_k3 = dIdt(i + dt / 2, Si + dt / 2 * S_k2, Ii + dt / 2 * I_k2)\n",
    "        R_k3 = dRdt(i + dt / 2, Ii + dt / 2 * I_k2)\n",
    "        \n",
    "        S_k4 = dSdt(i + dt, Si + dt * S_k3, Ii + dt * I_k3)\n",
    "        I_k4 = dIdt(i + dt, Si + dt * S_k3, Ii + dt * I_k3)\n",
    "        R_k4 = dRdt(i + dt, Ii + dt * I_k3)\n",
    "\n",
    "        S[i + 1] = Si + dt / 6 * (S_k1 + 2 * S_k2 + 2 * S_k3 + S_k4)\n",
    "        I[i + 1] = Ii + dt / 6 * (I_k1 + 2 * I_k2 + 2 * I_k3 + I_k4)\n",
    "        R[i + 1] = N - S[i + 1] - I[i + 1]\n",
    "    \n",
    "    # Return in dataframe for fancy\n",
    "    out = pd.DataFrame()\n",
    "    out['S'] = S\n",
    "    out['I'] = I\n",
    "    out['R'] = R\n",
    "    return out"
   ]
  },
  {
   "cell_type": "markdown",
   "metadata": {},
   "source": [
    "Now we call the function with some initial values. Given a population of 1000."
   ]
  },
  {
   "cell_type": "code",
   "execution_count": 17,
   "metadata": {},
   "outputs": [
    {
     "data": {
      "text/plain": [
       "<AxesSubplot:xlabel='step', ylabel='population'>"
      ]
     },
     "execution_count": 17,
     "metadata": {},
     "output_type": "execute_result"
    },
    {
     "data": {
      "image/png": "[encoded data removed]",
      "text/plain": [
       "<Figure size 432x288 with 1 Axes>"
      ]
     },
     "metadata": {
      "needs_background": "light"
     },
     "output_type": "display_data"
    }
   ],
   "source": [
    "# Now we call it!\n",
    "n = 200\n",
    "beta = 0.2\n",
    "gamma = 0.1\n",
    "S0 = 997\n",
    "I0 = 3\n",
    "R0 = 0\n",
    "dt = 1\n",
    "\n",
    "data = RK4SIR(n, beta, gamma, S0, I0, R0, dt)\n",
    "data.plot(xlabel='step', ylabel='population')"
   ]
  },
  {
   "cell_type": "markdown",
   "metadata": {},
   "source": [
    "### 2. Get it looking like the COVID data"
   ]
  },
  {
   "cell_type": "markdown",
   "metadata": {},
   "source": [
    "After playing around with the values for a while, I was not able to get the data to draw in the same way as the data provided at the beginning. This is most likely due to a some major reasons:\n",
    "\n",
    "1. The SIR model does not take into account all the measures that were taken against COVID.\n",
    "2. The SIR model does not account for stochastic events.\n",
    "3. The SIR model is quite general, and cannot account for factors that seem to affect COVID-19 infections such as air pollution, social and cultural context, etc.\n",
    "4. The SIR model assumes a closed population, which is an unfair assumption in today's day.\n",
    "5. The SIR model assumes recovered individuals are not considered to be able to get infected again, this is false pertaining to COVID-19."
   ]
  }
 ],
 "metadata": {
  "interpreter": {
   "hash": "dd35d0d2f47ffda01634c9676252f33987d44a0ea61035fce8b295334bc5a8d3"
  },
  "kernelspec": {
   "display_name": "Python 3.9.7 64-bit ('test': conda)",
   "language": "python",
   "name": "python3"
  },
  "language_info": {
   "codemirror_mode": {
    "name": "ipython",
    "version": 3
   },
   "file_extension": ".py",
   "mimetype": "text/x-python",
   "name": "python",
   "nbconvert_exporter": "python",
   "pygments_lexer": "ipython3",
   "version": "3.9.7"
  },
  "orig_nbformat": 4
 },
 "nbformat": 4,
 "nbformat_minor": 2
}
